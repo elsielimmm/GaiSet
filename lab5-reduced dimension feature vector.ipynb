{
  "cells": [
    {
      "cell_type": "markdown",
      "metadata": {
        "id": "C8Ahz3F8PKky"
      },
      "source": [
        "PBL 4: Trí tuệ nhân tạo  \n",
        "Nhóm 5: Nguyễn Văn An - Phạm Thị Phương - Dương Thị Thảo Vi.  \n",
        "Mô tả dự án: Nhận dạng người thông qua dáng đi sử dụng GaitSet."
      ]
    },
    {
      "cell_type": "markdown",
      "metadata": {
        "id": "uzW8Hvs2QWzQ"
      },
      "source": [
        "Liên kết Drive cá nhân với Google Colab để truy cập vào bộ dữ liệu"
      ]
    },
    {
      "cell_type": "code",
      "execution_count": null,
      "metadata": {
        "colab": {
          "base_uri": "https://localhost:8080/"
        },
        "id": "HLOWTJuXPAXT",
        "outputId": "21aa6322-5c71-452b-8fcb-723542c7829e"
      },
      "outputs": [
        {
          "output_type": "stream",
          "name": "stdout",
          "text": [
            "Drive already mounted at /content/drive; to attempt to forcibly remount, call drive.mount(\"/content/drive\", force_remount=True).\n"
          ]
        }
      ],
      "source": [
        "from google.colab import drive\n",
        "drive.mount('/content/drive')"
      ]
    },
    {
      "cell_type": "markdown",
      "metadata": {
        "id": "3Ob7Tv2RQhz2"
      },
      "source": [
        "Giải nén tệp dữ liệu dùng để huấn luyện, lưu vào thư mục dự án. Ở đây nhóm dùng bộ dữ liệu CASIA-B."
      ]
    },
    {
      "cell_type": "code",
      "execution_count": null,
      "metadata": {
        "colab": {
          "base_uri": "https://localhost:8080/"
        },
        "id": "2GN3vALGbpPM",
        "outputId": "af1beb03-3493-46a6-96bc-106cdd2589d6"
      },
      "outputs": [
        {
          "output_type": "stream",
          "name": "stdout",
          "text": [
            "Archive:  /content/drive/MyDrive/pbl4/data_train.zip\n",
            "replace preprocessed/001/bg-01/000/001-bg-01-000-001.png? [y]es, [n]o, [A]ll, [N]one, [r]ename: "
          ]
        }
      ],
      "source": [
        "!unzip \"/content/drive/MyDrive/pbl4/data_train.zip\""
      ]
    },
    {
      "cell_type": "markdown",
      "metadata": {
        "id": "FKDBMSPXRDEA"
      },
      "source": [
        "Tải dự án chứa source code lưu vào Google Colab."
      ]
    },
    {
      "cell_type": "code",
      "execution_count": null,
      "metadata": {
        "colab": {
          "base_uri": "https://localhost:8080/"
        },
        "id": "Xc_iaHd5PBH5",
        "outputId": "ebb28a85-521b-4fef-bdd0-5900b5127db2"
      },
      "outputs": [
        {
          "output_type": "stream",
          "name": "stdout",
          "text": [
            "fatal: destination path 'GaitSet' already exists and is not an empty directory.\n"
          ]
        }
      ],
      "source": [
        "!git clone https://github.com/an2101/GaitSet.git"
      ]
    },
    {
      "cell_type": "markdown",
      "metadata": {
        "id": "yC8zUUYqSACT"
      },
      "source": [
        "Kiểm tra lại kết quả huấn luyện trường hợp ban đầu số chiều feature là khoảng 16000"
      ]
    },
    {
      "cell_type": "code",
      "execution_count": null,
      "metadata": {
        "colab": {
          "base_uri": "https://localhost:8080/"
        },
        "id": "47wzxAR3DLiQ",
        "outputId": "a4669d43-856c-40ec-b7fe-28a43e6019a2"
      },
      "outputs": [
        {
          "output_type": "stream",
          "name": "stdout",
          "text": [
            "Initialzing...\n",
            "Initializing data source...\n",
            "Data initialization complete.\n",
            "Initializing model...\n",
            "Traceback (most recent call last):\n",
            "  File \"/content/GaitSet/test.py\", line 35, in <module>\n",
            "    m = initialization(conf, test=opt.cache)[0]\n",
            "        ^^^^^^^^^^^^^^^^^^^^^^^^^^^^^^^^^^^^\n",
            "  File \"/content/GaitSet/model/initialization.py\", line 58, in initialization\n",
            "    return initialize_model(config, train_source, test_source)\n",
            "           ^^^^^^^^^^^^^^^^^^^^^^^^^^^^^^^^^^^^^^^^^^^^^^^^^^^\n",
            "  File \"/content/GaitSet/model/initialization.py\", line 47, in initialize_model\n",
            "    m = Model(**model_param)\n",
            "        ^^^^^^^^^^^^^^^^^^^^\n",
            "  File \"/content/GaitSet/model/model.py\", line 61, in __init__\n",
            "    self.encoder.cuda()\n",
            "  File \"/usr/local/lib/python3.11/dist-packages/torch/nn/modules/module.py\", line 1053, in cuda\n",
            "    return self._apply(lambda t: t.cuda(device))\n",
            "           ^^^^^^^^^^^^^^^^^^^^^^^^^^^^^^^^^^^^^\n",
            "  File \"/usr/local/lib/python3.11/dist-packages/torch/nn/modules/module.py\", line 903, in _apply\n",
            "    module._apply(fn)\n",
            "  File \"/usr/local/lib/python3.11/dist-packages/torch/nn/modules/module.py\", line 903, in _apply\n",
            "    module._apply(fn)\n",
            "  File \"/usr/local/lib/python3.11/dist-packages/torch/nn/modules/module.py\", line 903, in _apply\n",
            "    module._apply(fn)\n",
            "  [Previous line repeated 1 more time]\n",
            "  File \"/usr/local/lib/python3.11/dist-packages/torch/nn/modules/module.py\", line 930, in _apply\n",
            "    param_applied = fn(param)\n",
            "                    ^^^^^^^^^\n",
            "  File \"/usr/local/lib/python3.11/dist-packages/torch/nn/modules/module.py\", line 1053, in <lambda>\n",
            "    return self._apply(lambda t: t.cuda(device))\n",
            "                                 ^^^^^^^^^^^^^^\n",
            "  File \"/usr/local/lib/python3.11/dist-packages/torch/cuda/__init__.py\", line 319, in _lazy_init\n",
            "    torch._C._cuda_init()\n",
            "RuntimeError: Found no NVIDIA driver on your system. Please check that you have an NVIDIA GPU and installed a driver from http://www.nvidia.com/Download/index.aspx\n"
          ]
        }
      ],
      "source": [
        "!python /content/GaitSet/test.py --iter=95400"
      ]
    },
    {
      "cell_type": "markdown",
      "source": [
        "Sửa lại code content/GaitSet/model/model.py trong google colab, [link code](https://drive.google.com/file/d/1iDfBDl1ASQZde-q2S8D7rnz6H-lP9qgn/view?usp=drive_link), copy code trong link này vào model.py trong colab. Kiểm tra lại kết quả test trường hợp giảm số chiều xuống còn 1000 dùng PCA."
      ],
      "metadata": {
        "id": "Rc_IaGGne-sY"
      }
    },
    {
      "cell_type": "code",
      "source": [
        "!python /content/GaitSet/test.py --iter=95400"
      ],
      "metadata": {
        "colab": {
          "base_uri": "https://localhost:8080/"
        },
        "id": "8S7LhUVnZ9wa",
        "outputId": "19d0f025-6f7f-4418-f75f-1c10b31ad346"
      },
      "execution_count": null,
      "outputs": [
        {
          "output_type": "stream",
          "name": "stdout",
          "text": [
            "Initialzing...\n",
            "Initializing data source...\n",
            "Data initialization complete.\n",
            "Initializing model...\n",
            "Model initialization complete.\n",
            "Loading the model of iteration 95400...\n",
            "Transforming...\n",
            "/usr/local/lib/python3.11/dist-packages/torch/utils/data/dataloader.py:624: UserWarning: This DataLoader will create 3 worker processes in total. Our suggested max number of worker in current system is 2, which is smaller than what this DataLoader is going to create. Please be aware that excessive worker creation might get DataLoader running slow or even freeze, lower the worker number to avoid potential slowness/freeze if necessary.\n",
            "  warnings.warn(\n",
            "Evaluating...\n",
            "Evaluation complete. Cost: 0:01:45.315522\n",
            "===Rank-1 (Include identical-view cases)===\n",
            "NM: 95.570,\tBG: 88.415,\tCL: 72.157\n",
            "===Rank-1 (Exclude identical-view cases)===\n",
            "NM: 95.127,\tBG: 87.384,\tCL: 70.573\n",
            "===Rank-1 of each angle (Exclude identical-view cases)===\n",
            "NM: [93.20 97.20 98.80 97.50 93.10 92.10 94.30 97.90 98.10 96.90 87.30]\n",
            "BG: [85.20 90.60 93.50 90.41 84.50 79.20 83.10 89.70 92.00 91.31 81.70]\n",
            "CL: [66.50 78.20 78.00 75.90 68.30 66.10 69.10 73.00 74.40 71.70 55.10]\n"
          ]
        }
      ]
    },
    {
      "cell_type": "markdown",
      "source": [
        "Sửa pca = PCA(n_components=2) tại hàm transform(self, flag, batch_size=1) trong file model.py. Kiểm tra lại kết quả test trường hợp giảm số chiều xuống còn 2 dùng PCA."
      ],
      "metadata": {
        "id": "-N0j4LSWf66w"
      }
    },
    {
      "cell_type": "code",
      "source": [
        "!python /content/GaitSet/test.py --iter=95400"
      ],
      "metadata": {
        "colab": {
          "base_uri": "https://localhost:8080/"
        },
        "id": "jA2I4pFOeKKh",
        "outputId": "9ff89a2e-358b-4941-9e00-050481ea8927"
      },
      "execution_count": null,
      "outputs": [
        {
          "output_type": "stream",
          "name": "stdout",
          "text": [
            "Initialzing...\n",
            "Initializing data source...\n",
            "Data initialization complete.\n",
            "Initializing model...\n",
            "Model initialization complete.\n",
            "Loading the model of iteration 95400...\n",
            "Transforming...\n",
            "/usr/local/lib/python3.11/dist-packages/torch/utils/data/dataloader.py:624: UserWarning: This DataLoader will create 3 worker processes in total. Our suggested max number of worker in current system is 2, which is smaller than what this DataLoader is going to create. Please be aware that excessive worker creation might get DataLoader running slow or even freeze, lower the worker number to avoid potential slowness/freeze if necessary.\n",
            "  warnings.warn(\n",
            "Evaluating...\n",
            "Evaluation complete. Cost: 0:01:15.807040\n",
            "===Rank-1 (Include identical-view cases)===\n",
            "NM: 37.901,\tBG: 27.725,\tCL: 22.620\n",
            "===Rank-1 (Exclude identical-view cases)===\n",
            "NM: 34.909,\tBG: 26.226,\tCL: 21.809\n",
            "===Rank-1 of each angle (Exclude identical-view cases)===\n",
            "NM: [26.00 33.40 39.50 39.40 38.50 34.50 37.20 40.10 38.80 32.30 24.30]\n",
            "BG: [20.30 25.00 30.60 31.51 26.40 24.00 21.50 28.20 29.40 27.98 23.60]\n",
            "CL: [17.10 23.40 25.60 24.20 21.50 21.40 20.90 23.90 25.30 21.80 14.80]\n"
          ]
        }
      ]
    },
    {
      "cell_type": "markdown",
      "source": [
        "Kiểm tra lại kết quả test trường hợp giảm số chiều xuống còn 10 dùng PCA."
      ],
      "metadata": {
        "id": "ozRjQr2mggYv"
      }
    },
    {
      "cell_type": "code",
      "source": [
        "!python /content/GaitSet/test.py --iter=95400"
      ],
      "metadata": {
        "colab": {
          "base_uri": "https://localhost:8080/"
        },
        "id": "s4ZeklCEgQwq",
        "outputId": "48d4f5d3-2f15-46be-ef49-a2c723e1a3dc"
      },
      "execution_count": null,
      "outputs": [
        {
          "output_type": "stream",
          "name": "stdout",
          "text": [
            "Initialzing...\n",
            "Initializing data source...\n",
            "Data initialization complete.\n",
            "Initializing model...\n",
            "Model initialization complete.\n",
            "Loading the model of iteration 95400...\n",
            "Transforming...\n",
            "/usr/local/lib/python3.11/dist-packages/torch/utils/data/dataloader.py:624: UserWarning: This DataLoader will create 3 worker processes in total. Our suggested max number of worker in current system is 2, which is smaller than what this DataLoader is going to create. Please be aware that excessive worker creation might get DataLoader running slow or even freeze, lower the worker number to avoid potential slowness/freeze if necessary.\n",
            "  warnings.warn(\n",
            "Evaluating...\n",
            "Evaluation complete. Cost: 0:01:17.579482\n",
            "===Rank-1 (Include identical-view cases)===\n",
            "NM: 88.149,\tBG: 76.196,\tCL: 62.446\n",
            "===Rank-1 (Exclude identical-view cases)===\n",
            "NM: 87.045,\tBG: 74.652,\tCL: 61.064\n",
            "===Rank-1 of each angle (Exclude identical-view cases)===\n",
            "NM: [79.00 91.20 94.00 91.10 85.60 83.90 87.70 91.20 90.70 89.40 73.70]\n",
            "BG: [67.60 77.10 82.40 78.59 73.40 67.50 70.80 77.80 81.30 78.69 66.00]\n",
            "CL: [58.10 68.20 69.10 63.60 57.80 57.60 60.90 63.00 66.20 59.20 48.00]\n"
          ]
        }
      ]
    },
    {
      "cell_type": "markdown",
      "source": [
        "Sửa lại code content/GaitSet/model/model.py trong google colab, [link code](https://drive.google.com/file/d/1sWDZD4o7HdY7-A2bhp-zluuXTGKheDPr/view?usp=drive_link), copy code trong link này vào model.py trong colab. Kiểm tra lại kết quả test trường hợp giảm số chiều xuống còn 2 dùng TNSE, sửa n_components=2. Nhóm chạy thử trường hợp giảm số chiều xuống 1000 nhưng bị lỗi"
      ],
      "metadata": {
        "id": "gfvQl0CajQlX"
      }
    },
    {
      "cell_type": "code",
      "source": [
        "!python /content/GaitSet/test.py --iter=95400"
      ],
      "metadata": {
        "colab": {
          "base_uri": "https://localhost:8080/"
        },
        "id": "yiSAfYvGjRHP",
        "outputId": "66a0a0e1-71b0-44ab-c80d-37798c226543"
      },
      "execution_count": null,
      "outputs": [
        {
          "output_type": "stream",
          "name": "stdout",
          "text": [
            "2025-05-15 01:39:30.081104: E external/local_xla/xla/stream_executor/cuda/cuda_fft.cc:477] Unable to register cuFFT factory: Attempting to register factory for plugin cuFFT when one has already been registered\n",
            "WARNING: All log messages before absl::InitializeLog() is called are written to STDERR\n",
            "E0000 00:00:1747273170.361773   11874 cuda_dnn.cc:8310] Unable to register cuDNN factory: Attempting to register factory for plugin cuDNN when one has already been registered\n",
            "E0000 00:00:1747273170.434863   11874 cuda_blas.cc:1418] Unable to register cuBLAS factory: Attempting to register factory for plugin cuBLAS when one has already been registered\n",
            "2025-05-15 01:39:31.050595: I tensorflow/core/platform/cpu_feature_guard.cc:210] This TensorFlow binary is optimized to use available CPU instructions in performance-critical operations.\n",
            "To enable the following instructions: AVX2 AVX512F FMA, in other operations, rebuild TensorFlow with the appropriate compiler flags.\n",
            "Initialzing...\n",
            "Initializing data source...\n",
            "Data initialization complete.\n",
            "Initializing model...\n",
            "Model initialization complete.\n",
            "Loading the model of iteration 95400...\n",
            "Transforming...\n",
            "/usr/local/lib/python3.11/dist-packages/torch/utils/data/dataloader.py:624: UserWarning: This DataLoader will create 3 worker processes in total. Our suggested max number of worker in current system is 2, which is smaller than what this DataLoader is going to create. Please be aware that excessive worker creation might get DataLoader running slow or even freeze, lower the worker number to avoid potential slowness/freeze if necessary.\n",
            "  warnings.warn(\n",
            "Evaluating...\n",
            "Evaluation complete. Cost: 0:02:16.610925\n",
            "===Rank-1 (Include identical-view cases)===\n",
            "NM: 100.000,\tBG: 99.313,\tCL: 87.983\n",
            "===Rank-1 (Exclude identical-view cases)===\n",
            "NM: 100.000,\tBG: 99.299,\tCL: 88.109\n",
            "===Rank-1 of each angle (Exclude identical-view cases)===\n",
            "NM: [100.00 100.00 100.00 100.00 100.00 100.00 100.00 100.00 100.00 100.00\n",
            " 100.00]\n",
            "BG: [ 99.50  99.60  98.30  98.48  98.90  98.90  99.00  99.70 100.00 100.00\n",
            "  99.90]\n",
            "CL: [87.50 88.60 88.70 89.30 88.40 89.00 88.80 88.30 87.70 86.40 86.50]\n"
          ]
        }
      ]
    },
    {
      "cell_type": "markdown",
      "source": [
        "Sửa lại code content/GaitSet/model/model.py trong google colab, [link code](https://drive.google.com/file/d/117ksty5Lap-dzKWHoqOlFWaYUY3cKLqr/view?usp=drive_link), copy code trong link này vào model.py trong colab. Sửa n_components=100 Kiểm tra lại kết quả test trường hợp giảm số chiều xuống còn 100 dùng UMAP."
      ],
      "metadata": {
        "id": "_vphgwWEmEqv"
      }
    },
    {
      "cell_type": "code",
      "source": [
        "!python /content/GaitSet/test.py --iter=95400"
      ],
      "metadata": {
        "colab": {
          "base_uri": "https://localhost:8080/"
        },
        "id": "R7eHT1hXmrF3",
        "outputId": "01674e16-bfb2-4c57-d4f1-ff1192c7b85c"
      },
      "execution_count": null,
      "outputs": [
        {
          "output_type": "stream",
          "name": "stdout",
          "text": [
            "2025-05-13 17:05:21.658574: E external/local_xla/xla/stream_executor/cuda/cuda_fft.cc:477] Unable to register cuFFT factory: Attempting to register factory for plugin cuFFT when one has already been registered\n",
            "WARNING: All log messages before absl::InitializeLog() is called are written to STDERR\n",
            "E0000 00:00:1747155921.678642   13423 cuda_dnn.cc:8310] Unable to register cuDNN factory: Attempting to register factory for plugin cuDNN when one has already been registered\n",
            "E0000 00:00:1747155921.685626   13423 cuda_blas.cc:1418] Unable to register cuBLAS factory: Attempting to register factory for plugin cuBLAS when one has already been registered\n",
            "2025-05-13 17:05:21.717657: I tensorflow/core/platform/cpu_feature_guard.cc:210] This TensorFlow binary is optimized to use available CPU instructions in performance-critical operations.\n",
            "To enable the following instructions: AVX2 AVX512F FMA, in other operations, rebuild TensorFlow with the appropriate compiler flags.\n",
            "Initialzing...\n",
            "Initializing data source...\n",
            "Data initialization complete.\n",
            "Initializing model...\n",
            "Model initialization complete.\n",
            "Loading the model of iteration 80000...\n",
            "Transforming...\n",
            "/usr/local/lib/python3.11/dist-packages/torch/utils/data/dataloader.py:624: UserWarning: This DataLoader will create 3 worker processes in total. Our suggested max number of worker in current system is 2, which is smaller than what this DataLoader is going to create. Please be aware that excessive worker creation might get DataLoader running slow or even freeze, lower the worker number to avoid potential slowness/freeze if necessary.\n",
            "  warnings.warn(\n",
            "/usr/local/lib/python3.11/dist-packages/sklearn/utils/deprecation.py:151: FutureWarning: 'force_all_finite' was renamed to 'ensure_all_finite' in 1.6 and will be removed in 1.8.\n",
            "  warnings.warn(\n",
            "/usr/local/lib/python3.11/dist-packages/umap/umap_.py:1952: UserWarning: n_jobs value 1 overridden to 1 by setting random_state. Use no seed for parallelism.\n",
            "  warn(\n",
            "Evaluating...\n",
            "Evaluation complete. Cost: 0:02:06.377386\n",
            "===Rank-1 (Include identical-view cases)===\n",
            "NM: 99.752,\tBG: 99.635,\tCL: 76.736\n",
            "===Rank-1 (Exclude identical-view cases)===\n",
            "NM: 99.727,\tBG: 99.617,\tCL: 76.736\n",
            "===Rank-1 of each angle (Exclude identical-view cases)===\n",
            "NM: [ 99.40 100.00 100.00 100.00  99.80  99.80  99.80  99.80  99.80  99.40\n",
            "  99.20]\n",
            "BG: [ 99.50 100.00  99.00  98.99 100.00 100.00 100.00  99.80  99.80  99.50\n",
            "  99.20]\n",
            "CL: [76.50 77.00 77.00 77.10 77.20 77.00 76.90 76.70 76.50 76.40 75.80]\n"
          ]
        }
      ]
    }
  ],
  "metadata": {
    "accelerator": "GPU",
    "colab": {
      "gpuType": "T4",
      "provenance": []
    },
    "kernelspec": {
      "display_name": "Python 3",
      "name": "python3"
    },
    "language_info": {
      "name": "python"
    }
  },
  "nbformat": 4,
  "nbformat_minor": 0
}